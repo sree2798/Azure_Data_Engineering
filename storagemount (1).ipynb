{
 "cells": [
  {
   "cell_type": "code",
   "execution_count": 0,
   "metadata": {
    "application/vnd.databricks.v1+cell": {
     "cellMetadata": {
      "byteLimit": 2048000,
      "rowLimit": 10000
     },
     "inputWidgets": {},
     "nuid": "7c821cac-24cc-484c-a06b-3a8f5b53cf7a",
     "showTitle": false,
     "tableResultSettingsMap": {},
     "title": ""
    }
   },
   "outputs": [
    {
     "output_type": "execute_result",
     "data": {
      "text/plain": [
       "True"
      ]
     },
     "execution_count": 1,
     "metadata": {},
     "output_type": "execute_result"
    }
   ],
   "source": [
    "#Configuration settings for authenticating and accessing ADLS Gen2 storage\n",
    "adls_configs = {\n",
    "    \"fs.azure.account.auth.type\": \"CustomAccessToken\",\n",
    "    \"fs.azure.account.custom.token.provider.class\": spark.conf.get(\n",
    "        \"spark.databricks.passthrough.adls.gen2.tokenProviderClassName\"\n",
    "    )\n",
    "}\n",
    "\n",
    "# Mount the Bronze container from ADLS to Databricks file system\n",
    "# This mount point allows access to raw data from the Bronze layer\n",
    "dbutils.fs.mount(\n",
    "    source=\"abfss://bronze@devstoragecustomer.dfs.core.windows.net/\",\n",
    "    mount_point=\"/mnt/bronze\",\n",
    "    extra_configs=adls_configs\n",
    ")\n",
    "\n",
    "# Mount the Silver container from ADLS to Databricks file system\n",
    "# This mount point allows access to cleansed and enriched data\n",
    "dbutils.fs.mount(\n",
    "    source=\"abfss://silver@devstoragecustomer.dfs.core.windows.net/\",\n",
    "    mount_point=\"/mnt/silver\",\n",
    "    extra_configs=adls_configs\n",
    ")\n",
    "\n",
    "# Mount the Gold container from ADLS to Databricks file system\n",
    "# This mount point allows access to business-level aggregated data\n",
    "dbutils.fs.mount(\n",
    "    source=\"abfss://gold@devstoragecustomer.dfs.core.windows.net/\",\n",
    "    mount_point=\"/mnt/gold\",\n",
    "    extra_configs=adls_configs\n",
    ")\n"
   ]
  },
  {
   "cell_type": "code",
   "execution_count": 0,
   "metadata": {
    "application/vnd.databricks.v1+cell": {
     "cellMetadata": {
      "byteLimit": 2048000,
      "rowLimit": 10000
     },
     "inputWidgets": {},
     "nuid": "449f9e0d-cc3b-44df-b398-3c4d69017f9e",
     "showTitle": false,
     "tableResultSettingsMap": {},
     "title": ""
    }
   },
   "outputs": [
    {
     "output_type": "execute_result",
     "data": {
      "text/plain": [
       "[FileInfo(path='dbfs:/mnt/bronze/SalesLT/Address/', name='Address/', size=0, modificationTime=1731871060000),\n",
       " FileInfo(path='dbfs:/mnt/bronze/SalesLT/Customer/', name='Customer/', size=0, modificationTime=1731871074000),\n",
       " FileInfo(path='dbfs:/mnt/bronze/SalesLT/CustomerAddress/', name='CustomerAddress/', size=0, modificationTime=1731871084000),\n",
       " FileInfo(path='dbfs:/mnt/bronze/SalesLT/Product/', name='Product/', size=0, modificationTime=1731871081000),\n",
       " FileInfo(path='dbfs:/mnt/bronze/SalesLT/ProductCategory/', name='ProductCategory/', size=0, modificationTime=1731871063000),\n",
       " FileInfo(path='dbfs:/mnt/bronze/SalesLT/ProductDescription/', name='ProductDescription/', size=0, modificationTime=1731871064000),\n",
       " FileInfo(path='dbfs:/mnt/bronze/SalesLT/ProductModel/', name='ProductModel/', size=0, modificationTime=1731871081000),\n",
       " FileInfo(path='dbfs:/mnt/bronze/SalesLT/ProductModelProductDescription/', name='ProductModelProductDescription/', size=0, modificationTime=1731871064000),\n",
       " FileInfo(path='dbfs:/mnt/bronze/SalesLT/SalesOrderDetail/', name='SalesOrderDetail/', size=0, modificationTime=1731871063000),\n",
       " FileInfo(path='dbfs:/mnt/bronze/SalesLT/SalesOrderHeader/', name='SalesOrderHeader/', size=0, modificationTime=1731871081000)]"
      ]
     },
     "execution_count": 3,
     "metadata": {},
     "output_type": "execute_result"
    }
   ],
   "source": [
    "dbutils.fs.ls(\"/mnt/bronze/SalesLT\")"
   ]
  },
  {
   "cell_type": "code",
   "execution_count": 0,
   "metadata": {
    "application/vnd.databricks.v1+cell": {
     "cellMetadata": {
      "byteLimit": 2048000,
      "rowLimit": 10000
     },
     "inputWidgets": {},
     "nuid": "9a5f38b4-eb9d-4d07-a364-4e8705c6e5b1",
     "showTitle": false,
     "tableResultSettingsMap": {},
     "title": ""
    }
   },
   "outputs": [],
   "source": []
  }
 ],
 "metadata": {
  "application/vnd.databricks.v1+notebook": {
   "dashboards": [],
   "environmentMetadata": {
    "base_environment": "",
    "client": "1"
   },
   "language": "python",
   "notebookMetadata": {
    "pythonIndentUnit": 2
   },
   "notebookName": "storagemount",
   "widgets": {}
  },
  "language_info": {
   "name": "python"
  }
 },
 "nbformat": 4,
 "nbformat_minor": 0
}